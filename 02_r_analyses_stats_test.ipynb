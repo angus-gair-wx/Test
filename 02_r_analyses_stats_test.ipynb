{
 "cells": [
  {
   "cell_type": "code",
   "execution_count": 5,
   "metadata": {
    "vscode": {
     "languageId": "r"
    }
   },
   "outputs": [],
   "source": [
    "# Load packages\n",
    "library(readxl)\n",
    "library(dplyr)\n",
    "library(tidyr)\n"
   ]
  },
  {
   "cell_type": "code",
   "execution_count": 6,
   "metadata": {
    "vscode": {
     "languageId": "r"
    }
   },
   "outputs": [
    {
     "data": {
      "text/html": [
       "<table class=\"dataframe\">\n",
       "<caption>A tibble: 6 × 40</caption>\n",
       "<thead>\n",
       "\t<tr><th scope=col>week_number</th><th scope=col>crn</th><th scope=col>sales</th><th scope=col>week_period</th><th scope=col>tenure</th><th scope=col>lifestage</th><th scope=col>affluence</th><th scope=col>value_segment</th><th scope=col>sow</th><th scope=col>sow_ntile_10</th><th scope=col>⋯</th><th scope=col>affluence_tenure_ntile_10</th><th scope=col>affluence_lifestage</th><th scope=col>value_segment_tenure_ntile_10</th><th scope=col>value_segment_last_email_group</th><th scope=col>value_segment_marketable_group</th><th scope=col>last_email_group_marketable_group</th><th scope=col>lifestage_value_segment</th><th scope=col>lifestage_tenure_ntile_10</th><th scope=col>period_trans_cnt</th><th scope=col>week_period_trans_avg</th></tr>\n",
       "\t<tr><th scope=col>&lt;dbl&gt;</th><th scope=col>&lt;dbl&gt;</th><th scope=col>&lt;dbl&gt;</th><th scope=col>&lt;chr&gt;</th><th scope=col>&lt;dbl&gt;</th><th scope=col>&lt;chr&gt;</th><th scope=col>&lt;chr&gt;</th><th scope=col>&lt;chr&gt;</th><th scope=col>&lt;dbl&gt;</th><th scope=col>&lt;dbl&gt;</th><th scope=col>⋯</th><th scope=col>&lt;chr&gt;</th><th scope=col>&lt;chr&gt;</th><th scope=col>&lt;chr&gt;</th><th scope=col>&lt;chr&gt;</th><th scope=col>&lt;chr&gt;</th><th scope=col>&lt;chr&gt;</th><th scope=col>&lt;chr&gt;</th><th scope=col>&lt;chr&gt;</th><th scope=col>&lt;chr&gt;</th><th scope=col>&lt;dbl&gt;</th></tr>\n",
       "</thead>\n",
       "<tbody>\n",
       "\t<tr><td>15</td><td>121320442</td><td>517.46</td><td>NULL</td><td>617</td><td>OLDER FAMILIES</td><td>NORMAL</td><td>H</td><td>0.78</td><td>2</td><td>⋯</td><td>NORMAL + 1</td><td>NORMAL + OLDER FAMILIES</td><td>H + 1</td><td>H + 6</td><td>H + other</td><td>6 + other</td><td>OLDER FAMILIES + H</td><td>OLDER FAMILIES + 1</td><td>exclude + 7</td><td>3</td></tr>\n",
       "\t<tr><td>16</td><td>121320442</td><td>451.87</td><td>1   </td><td>617</td><td>OLDER FAMILIES</td><td>NORMAL</td><td>H</td><td>0.78</td><td>2</td><td>⋯</td><td>NORMAL + 1</td><td>NORMAL + OLDER FAMILIES</td><td>H + 1</td><td>H + 6</td><td>H + other</td><td>6 + other</td><td>OLDER FAMILIES + H</td><td>OLDER FAMILIES + 1</td><td>exclude + 7</td><td>3</td></tr>\n",
       "\t<tr><td>17</td><td>121320442</td><td>377.22</td><td>1   </td><td>617</td><td>OLDER FAMILIES</td><td>NORMAL</td><td>H</td><td>0.78</td><td>2</td><td>⋯</td><td>NORMAL + 1</td><td>NORMAL + OLDER FAMILIES</td><td>H + 1</td><td>H + 6</td><td>H + other</td><td>6 + other</td><td>OLDER FAMILIES + H</td><td>OLDER FAMILIES + 1</td><td>exclude + 7</td><td>3</td></tr>\n",
       "\t<tr><td>18</td><td>121320442</td><td>480.19</td><td>1   </td><td>617</td><td>OLDER FAMILIES</td><td>NORMAL</td><td>H</td><td>0.78</td><td>2</td><td>⋯</td><td>NORMAL + 1</td><td>NORMAL + OLDER FAMILIES</td><td>H + 1</td><td>H + 6</td><td>H + other</td><td>6 + other</td><td>OLDER FAMILIES + H</td><td>OLDER FAMILIES + 1</td><td>exclude + 7</td><td>3</td></tr>\n",
       "\t<tr><td>19</td><td>121320442</td><td>560.12</td><td>2   </td><td>617</td><td>OLDER FAMILIES</td><td>NORMAL</td><td>H</td><td>0.78</td><td>2</td><td>⋯</td><td>NORMAL + 1</td><td>NORMAL + OLDER FAMILIES</td><td>H + 1</td><td>H + 6</td><td>H + other</td><td>6 + other</td><td>OLDER FAMILIES + H</td><td>OLDER FAMILIES + 1</td><td>exclude + 7</td><td>3</td></tr>\n",
       "\t<tr><td>20</td><td>121320442</td><td>595.02</td><td>2   </td><td>617</td><td>OLDER FAMILIES</td><td>NORMAL</td><td>H</td><td>0.78</td><td>2</td><td>⋯</td><td>NORMAL + 1</td><td>NORMAL + OLDER FAMILIES</td><td>H + 1</td><td>H + 6</td><td>H + other</td><td>6 + other</td><td>OLDER FAMILIES + H</td><td>OLDER FAMILIES + 1</td><td>exclude + 7</td><td>3</td></tr>\n",
       "</tbody>\n",
       "</table>\n"
      ],
      "text/latex": [
       "A tibble: 6 × 40\n",
       "\\begin{tabular}{lllllllllllllllllllll}\n",
       " week\\_number & crn & sales & week\\_period & tenure & lifestage & affluence & value\\_segment & sow & sow\\_ntile\\_10 & ⋯ & affluence\\_tenure\\_ntile\\_10 & affluence\\_lifestage & value\\_segment\\_tenure\\_ntile\\_10 & value\\_segment\\_last\\_email\\_group & value\\_segment\\_marketable\\_group & last\\_email\\_group\\_marketable\\_group & lifestage\\_value\\_segment & lifestage\\_tenure\\_ntile\\_10 & period\\_trans\\_cnt & week\\_period\\_trans\\_avg\\\\\n",
       " <dbl> & <dbl> & <dbl> & <chr> & <dbl> & <chr> & <chr> & <chr> & <dbl> & <dbl> & ⋯ & <chr> & <chr> & <chr> & <chr> & <chr> & <chr> & <chr> & <chr> & <chr> & <dbl>\\\\\n",
       "\\hline\n",
       "\t 15 & 121320442 & 517.46 & NULL & 617 & OLDER FAMILIES & NORMAL & H & 0.78 & 2 & ⋯ & NORMAL + 1 & NORMAL + OLDER FAMILIES & H + 1 & H + 6 & H + other & 6 + other & OLDER FAMILIES + H & OLDER FAMILIES + 1 & exclude + 7 & 3\\\\\n",
       "\t 16 & 121320442 & 451.87 & 1    & 617 & OLDER FAMILIES & NORMAL & H & 0.78 & 2 & ⋯ & NORMAL + 1 & NORMAL + OLDER FAMILIES & H + 1 & H + 6 & H + other & 6 + other & OLDER FAMILIES + H & OLDER FAMILIES + 1 & exclude + 7 & 3\\\\\n",
       "\t 17 & 121320442 & 377.22 & 1    & 617 & OLDER FAMILIES & NORMAL & H & 0.78 & 2 & ⋯ & NORMAL + 1 & NORMAL + OLDER FAMILIES & H + 1 & H + 6 & H + other & 6 + other & OLDER FAMILIES + H & OLDER FAMILIES + 1 & exclude + 7 & 3\\\\\n",
       "\t 18 & 121320442 & 480.19 & 1    & 617 & OLDER FAMILIES & NORMAL & H & 0.78 & 2 & ⋯ & NORMAL + 1 & NORMAL + OLDER FAMILIES & H + 1 & H + 6 & H + other & 6 + other & OLDER FAMILIES + H & OLDER FAMILIES + 1 & exclude + 7 & 3\\\\\n",
       "\t 19 & 121320442 & 560.12 & 2    & 617 & OLDER FAMILIES & NORMAL & H & 0.78 & 2 & ⋯ & NORMAL + 1 & NORMAL + OLDER FAMILIES & H + 1 & H + 6 & H + other & 6 + other & OLDER FAMILIES + H & OLDER FAMILIES + 1 & exclude + 7 & 3\\\\\n",
       "\t 20 & 121320442 & 595.02 & 2    & 617 & OLDER FAMILIES & NORMAL & H & 0.78 & 2 & ⋯ & NORMAL + 1 & NORMAL + OLDER FAMILIES & H + 1 & H + 6 & H + other & 6 + other & OLDER FAMILIES + H & OLDER FAMILIES + 1 & exclude + 7 & 3\\\\\n",
       "\\end{tabular}\n"
      ],
      "text/markdown": [
       "\n",
       "A tibble: 6 × 40\n",
       "\n",
       "| week_number &lt;dbl&gt; | crn &lt;dbl&gt; | sales &lt;dbl&gt; | week_period &lt;chr&gt; | tenure &lt;dbl&gt; | lifestage &lt;chr&gt; | affluence &lt;chr&gt; | value_segment &lt;chr&gt; | sow &lt;dbl&gt; | sow_ntile_10 &lt;dbl&gt; | ⋯ ⋯ | affluence_tenure_ntile_10 &lt;chr&gt; | affluence_lifestage &lt;chr&gt; | value_segment_tenure_ntile_10 &lt;chr&gt; | value_segment_last_email_group &lt;chr&gt; | value_segment_marketable_group &lt;chr&gt; | last_email_group_marketable_group &lt;chr&gt; | lifestage_value_segment &lt;chr&gt; | lifestage_tenure_ntile_10 &lt;chr&gt; | period_trans_cnt &lt;chr&gt; | week_period_trans_avg &lt;dbl&gt; |\n",
       "|---|---|---|---|---|---|---|---|---|---|---|---|---|---|---|---|---|---|---|---|---|\n",
       "| 15 | 121320442 | 517.46 | NULL | 617 | OLDER FAMILIES | NORMAL | H | 0.78 | 2 | ⋯ | NORMAL + 1 | NORMAL + OLDER FAMILIES | H + 1 | H + 6 | H + other | 6 + other | OLDER FAMILIES + H | OLDER FAMILIES + 1 | exclude + 7 | 3 |\n",
       "| 16 | 121320442 | 451.87 | 1    | 617 | OLDER FAMILIES | NORMAL | H | 0.78 | 2 | ⋯ | NORMAL + 1 | NORMAL + OLDER FAMILIES | H + 1 | H + 6 | H + other | 6 + other | OLDER FAMILIES + H | OLDER FAMILIES + 1 | exclude + 7 | 3 |\n",
       "| 17 | 121320442 | 377.22 | 1    | 617 | OLDER FAMILIES | NORMAL | H | 0.78 | 2 | ⋯ | NORMAL + 1 | NORMAL + OLDER FAMILIES | H + 1 | H + 6 | H + other | 6 + other | OLDER FAMILIES + H | OLDER FAMILIES + 1 | exclude + 7 | 3 |\n",
       "| 18 | 121320442 | 480.19 | 1    | 617 | OLDER FAMILIES | NORMAL | H | 0.78 | 2 | ⋯ | NORMAL + 1 | NORMAL + OLDER FAMILIES | H + 1 | H + 6 | H + other | 6 + other | OLDER FAMILIES + H | OLDER FAMILIES + 1 | exclude + 7 | 3 |\n",
       "| 19 | 121320442 | 560.12 | 2    | 617 | OLDER FAMILIES | NORMAL | H | 0.78 | 2 | ⋯ | NORMAL + 1 | NORMAL + OLDER FAMILIES | H + 1 | H + 6 | H + other | 6 + other | OLDER FAMILIES + H | OLDER FAMILIES + 1 | exclude + 7 | 3 |\n",
       "| 20 | 121320442 | 595.02 | 2    | 617 | OLDER FAMILIES | NORMAL | H | 0.78 | 2 | ⋯ | NORMAL + 1 | NORMAL + OLDER FAMILIES | H + 1 | H + 6 | H + other | 6 + other | OLDER FAMILIES + H | OLDER FAMILIES + 1 | exclude + 7 | 3 |\n",
       "\n"
      ],
      "text/plain": [
       "  week_number crn       sales  week_period tenure lifestage      affluence\n",
       "1 15          121320442 517.46 NULL        617    OLDER FAMILIES NORMAL   \n",
       "2 16          121320442 451.87 1           617    OLDER FAMILIES NORMAL   \n",
       "3 17          121320442 377.22 1           617    OLDER FAMILIES NORMAL   \n",
       "4 18          121320442 480.19 1           617    OLDER FAMILIES NORMAL   \n",
       "5 19          121320442 560.12 2           617    OLDER FAMILIES NORMAL   \n",
       "6 20          121320442 595.02 2           617    OLDER FAMILIES NORMAL   \n",
       "  value_segment sow  sow_ntile_10 ⋯ affluence_tenure_ntile_10\n",
       "1 H             0.78 2            ⋯ NORMAL + 1               \n",
       "2 H             0.78 2            ⋯ NORMAL + 1               \n",
       "3 H             0.78 2            ⋯ NORMAL + 1               \n",
       "4 H             0.78 2            ⋯ NORMAL + 1               \n",
       "5 H             0.78 2            ⋯ NORMAL + 1               \n",
       "6 H             0.78 2            ⋯ NORMAL + 1               \n",
       "  affluence_lifestage     value_segment_tenure_ntile_10\n",
       "1 NORMAL + OLDER FAMILIES H + 1                        \n",
       "2 NORMAL + OLDER FAMILIES H + 1                        \n",
       "3 NORMAL + OLDER FAMILIES H + 1                        \n",
       "4 NORMAL + OLDER FAMILIES H + 1                        \n",
       "5 NORMAL + OLDER FAMILIES H + 1                        \n",
       "6 NORMAL + OLDER FAMILIES H + 1                        \n",
       "  value_segment_last_email_group value_segment_marketable_group\n",
       "1 H + 6                          H + other                     \n",
       "2 H + 6                          H + other                     \n",
       "3 H + 6                          H + other                     \n",
       "4 H + 6                          H + other                     \n",
       "5 H + 6                          H + other                     \n",
       "6 H + 6                          H + other                     \n",
       "  last_email_group_marketable_group lifestage_value_segment\n",
       "1 6 + other                         OLDER FAMILIES + H     \n",
       "2 6 + other                         OLDER FAMILIES + H     \n",
       "3 6 + other                         OLDER FAMILIES + H     \n",
       "4 6 + other                         OLDER FAMILIES + H     \n",
       "5 6 + other                         OLDER FAMILIES + H     \n",
       "6 6 + other                         OLDER FAMILIES + H     \n",
       "  lifestage_tenure_ntile_10 period_trans_cnt week_period_trans_avg\n",
       "1 OLDER FAMILIES + 1        exclude + 7      3                    \n",
       "2 OLDER FAMILIES + 1        exclude + 7      3                    \n",
       "3 OLDER FAMILIES + 1        exclude + 7      3                    \n",
       "4 OLDER FAMILIES + 1        exclude + 7      3                    \n",
       "5 OLDER FAMILIES + 1        exclude + 7      3                    \n",
       "6 OLDER FAMILIES + 1        exclude + 7      3                    "
      ]
     },
     "metadata": {},
     "output_type": "display_data"
    }
   ],
   "source": [
    "# Customer Database from SQL\n",
    "excel_file_path <- \"C:\\\\Users\\\\61468\\\\OneDrive\\\\Documents\\\\results.xlsx\"\n",
    "\n",
    "# Read the first sheet from the Excel file into a dataframe\n",
    "data <- read_excel(excel_file_path)\n",
    "\n",
    "# Display the first few rows of the dataframe\n",
    "head(data)\n"
   ]
  },
  {
   "cell_type": "code",
   "execution_count": 7,
   "metadata": {
    "vscode": {
     "languageId": "r"
    }
   },
   "outputs": [
    {
     "data": {
      "text/html": [
       "<table class=\"dataframe\">\n",
       "<caption>A tibble: 6 × 40</caption>\n",
       "<thead>\n",
       "\t<tr><th scope=col>week_number</th><th scope=col>crn</th><th scope=col>sales</th><th scope=col>week_period</th><th scope=col>tenure</th><th scope=col>lifestage</th><th scope=col>affluence</th><th scope=col>value_segment</th><th scope=col>sow</th><th scope=col>sow_ntile_10</th><th scope=col>⋯</th><th scope=col>affluence_tenure_ntile_10</th><th scope=col>affluence_lifestage</th><th scope=col>value_segment_tenure_ntile_10</th><th scope=col>value_segment_last_email_group</th><th scope=col>value_segment_marketable_group</th><th scope=col>last_email_group_marketable_group</th><th scope=col>lifestage_value_segment</th><th scope=col>lifestage_tenure_ntile_10</th><th scope=col>period_trans_cnt</th><th scope=col>week_period_trans_avg</th></tr>\n",
       "\t<tr><th scope=col>&lt;dbl&gt;</th><th scope=col>&lt;dbl&gt;</th><th scope=col>&lt;dbl&gt;</th><th scope=col>&lt;chr&gt;</th><th scope=col>&lt;dbl&gt;</th><th scope=col>&lt;chr&gt;</th><th scope=col>&lt;chr&gt;</th><th scope=col>&lt;chr&gt;</th><th scope=col>&lt;dbl&gt;</th><th scope=col>&lt;dbl&gt;</th><th scope=col>⋯</th><th scope=col>&lt;chr&gt;</th><th scope=col>&lt;chr&gt;</th><th scope=col>&lt;chr&gt;</th><th scope=col>&lt;chr&gt;</th><th scope=col>&lt;chr&gt;</th><th scope=col>&lt;chr&gt;</th><th scope=col>&lt;chr&gt;</th><th scope=col>&lt;chr&gt;</th><th scope=col>&lt;chr&gt;</th><th scope=col>&lt;dbl&gt;</th></tr>\n",
       "</thead>\n",
       "<tbody>\n",
       "\t<tr><td>22</td><td>121320442</td><td>432.94</td><td>3</td><td>617</td><td>OLDER FAMILIES</td><td>NORMAL</td><td>H</td><td>0.78</td><td> 2</td><td>⋯</td><td>NORMAL + 1</td><td>NORMAL + OLDER FAMILIES</td><td>H + 1</td><td>H + 6</td><td>H + other        </td><td>6 + other        </td><td>OLDER FAMILIES + H</td><td>OLDER FAMILIES + 1</td><td>period prior + 3</td><td>3.0</td></tr>\n",
       "\t<tr><td>22</td><td>121328096</td><td> 79.47</td><td>3</td><td>616</td><td>YOUNG FAMILIES</td><td>BUDGET</td><td>H</td><td>0.63</td><td> 6</td><td>⋯</td><td>BUDGET + 1</td><td>BUDGET + YOUNG FAMILIES</td><td>H + 1</td><td>H + 4</td><td>H + email_and_app</td><td>4 + email_and_app</td><td>YOUNG FAMILIES + H</td><td>YOUNG FAMILIES + 1</td><td>period prior + 3</td><td>2.5</td></tr>\n",
       "\t<tr><td>22</td><td>121342864</td><td>167.75</td><td>3</td><td>614</td><td>RETIREES      </td><td>BUDGET</td><td>H</td><td>0.65</td><td> 6</td><td>⋯</td><td>BUDGET + 1</td><td>BUDGET + RETIREES      </td><td>H + 1</td><td>H + 6</td><td>H + other        </td><td>6 + other        </td><td>RETIREES + H      </td><td>RETIREES + 1      </td><td>period prior + 3</td><td>3.0</td></tr>\n",
       "\t<tr><td>22</td><td>121357354</td><td> 19.59</td><td>3</td><td>601</td><td>YOUNG FAMILIES</td><td>BUDGET</td><td>L</td><td>0.30</td><td>10</td><td>⋯</td><td>BUDGET + 1</td><td>BUDGET + YOUNG FAMILIES</td><td>L + 1</td><td>L + 6</td><td>L + other        </td><td>6 + other        </td><td>YOUNG FAMILIES + L</td><td>YOUNG FAMILIES + 1</td><td>period prior + 2</td><td>1.5</td></tr>\n",
       "\t<tr><td>22</td><td>121408985</td><td>228.20</td><td>3</td><td>597</td><td>YOUNG FAMILIES</td><td>NORMAL</td><td>H</td><td>0.78</td><td> 2</td><td>⋯</td><td>NORMAL + 1</td><td>NORMAL + YOUNG FAMILIES</td><td>H + 1</td><td>H + 3</td><td>H + email_only   </td><td>3 + email_only   </td><td>YOUNG FAMILIES + H</td><td>YOUNG FAMILIES + 1</td><td>period prior + 3</td><td>3.0</td></tr>\n",
       "\t<tr><td>22</td><td>121410182</td><td> 45.16</td><td>3</td><td>597</td><td>OLDER NO KIDS </td><td>NORMAL</td><td>H</td><td>0.73</td><td> 4</td><td>⋯</td><td>NORMAL + 1</td><td>NORMAL + OLDER NO KIDS </td><td>H + 1</td><td>H + 6</td><td>H + other        </td><td>6 + other        </td><td>OLDER NO KIDS + H </td><td>OLDER NO KIDS + 1 </td><td>period prior + 1</td><td>2.0</td></tr>\n",
       "</tbody>\n",
       "</table>\n"
      ],
      "text/latex": [
       "A tibble: 6 × 40\n",
       "\\begin{tabular}{lllllllllllllllllllll}\n",
       " week\\_number & crn & sales & week\\_period & tenure & lifestage & affluence & value\\_segment & sow & sow\\_ntile\\_10 & ⋯ & affluence\\_tenure\\_ntile\\_10 & affluence\\_lifestage & value\\_segment\\_tenure\\_ntile\\_10 & value\\_segment\\_last\\_email\\_group & value\\_segment\\_marketable\\_group & last\\_email\\_group\\_marketable\\_group & lifestage\\_value\\_segment & lifestage\\_tenure\\_ntile\\_10 & period\\_trans\\_cnt & week\\_period\\_trans\\_avg\\\\\n",
       " <dbl> & <dbl> & <dbl> & <chr> & <dbl> & <chr> & <chr> & <chr> & <dbl> & <dbl> & ⋯ & <chr> & <chr> & <chr> & <chr> & <chr> & <chr> & <chr> & <chr> & <chr> & <dbl>\\\\\n",
       "\\hline\n",
       "\t 22 & 121320442 & 432.94 & 3 & 617 & OLDER FAMILIES & NORMAL & H & 0.78 &  2 & ⋯ & NORMAL + 1 & NORMAL + OLDER FAMILIES & H + 1 & H + 6 & H + other         & 6 + other         & OLDER FAMILIES + H & OLDER FAMILIES + 1 & period prior + 3 & 3.0\\\\\n",
       "\t 22 & 121328096 &  79.47 & 3 & 616 & YOUNG FAMILIES & BUDGET & H & 0.63 &  6 & ⋯ & BUDGET + 1 & BUDGET + YOUNG FAMILIES & H + 1 & H + 4 & H + email\\_and\\_app & 4 + email\\_and\\_app & YOUNG FAMILIES + H & YOUNG FAMILIES + 1 & period prior + 3 & 2.5\\\\\n",
       "\t 22 & 121342864 & 167.75 & 3 & 614 & RETIREES       & BUDGET & H & 0.65 &  6 & ⋯ & BUDGET + 1 & BUDGET + RETIREES       & H + 1 & H + 6 & H + other         & 6 + other         & RETIREES + H       & RETIREES + 1       & period prior + 3 & 3.0\\\\\n",
       "\t 22 & 121357354 &  19.59 & 3 & 601 & YOUNG FAMILIES & BUDGET & L & 0.30 & 10 & ⋯ & BUDGET + 1 & BUDGET + YOUNG FAMILIES & L + 1 & L + 6 & L + other         & 6 + other         & YOUNG FAMILIES + L & YOUNG FAMILIES + 1 & period prior + 2 & 1.5\\\\\n",
       "\t 22 & 121408985 & 228.20 & 3 & 597 & YOUNG FAMILIES & NORMAL & H & 0.78 &  2 & ⋯ & NORMAL + 1 & NORMAL + YOUNG FAMILIES & H + 1 & H + 3 & H + email\\_only    & 3 + email\\_only    & YOUNG FAMILIES + H & YOUNG FAMILIES + 1 & period prior + 3 & 3.0\\\\\n",
       "\t 22 & 121410182 &  45.16 & 3 & 597 & OLDER NO KIDS  & NORMAL & H & 0.73 &  4 & ⋯ & NORMAL + 1 & NORMAL + OLDER NO KIDS  & H + 1 & H + 6 & H + other         & 6 + other         & OLDER NO KIDS + H  & OLDER NO KIDS + 1  & period prior + 1 & 2.0\\\\\n",
       "\\end{tabular}\n"
      ],
      "text/markdown": [
       "\n",
       "A tibble: 6 × 40\n",
       "\n",
       "| week_number &lt;dbl&gt; | crn &lt;dbl&gt; | sales &lt;dbl&gt; | week_period &lt;chr&gt; | tenure &lt;dbl&gt; | lifestage &lt;chr&gt; | affluence &lt;chr&gt; | value_segment &lt;chr&gt; | sow &lt;dbl&gt; | sow_ntile_10 &lt;dbl&gt; | ⋯ ⋯ | affluence_tenure_ntile_10 &lt;chr&gt; | affluence_lifestage &lt;chr&gt; | value_segment_tenure_ntile_10 &lt;chr&gt; | value_segment_last_email_group &lt;chr&gt; | value_segment_marketable_group &lt;chr&gt; | last_email_group_marketable_group &lt;chr&gt; | lifestage_value_segment &lt;chr&gt; | lifestage_tenure_ntile_10 &lt;chr&gt; | period_trans_cnt &lt;chr&gt; | week_period_trans_avg &lt;dbl&gt; |\n",
       "|---|---|---|---|---|---|---|---|---|---|---|---|---|---|---|---|---|---|---|---|---|\n",
       "| 22 | 121320442 | 432.94 | 3 | 617 | OLDER FAMILIES | NORMAL | H | 0.78 |  2 | ⋯ | NORMAL + 1 | NORMAL + OLDER FAMILIES | H + 1 | H + 6 | H + other         | 6 + other         | OLDER FAMILIES + H | OLDER FAMILIES + 1 | period prior + 3 | 3.0 |\n",
       "| 22 | 121328096 |  79.47 | 3 | 616 | YOUNG FAMILIES | BUDGET | H | 0.63 |  6 | ⋯ | BUDGET + 1 | BUDGET + YOUNG FAMILIES | H + 1 | H + 4 | H + email_and_app | 4 + email_and_app | YOUNG FAMILIES + H | YOUNG FAMILIES + 1 | period prior + 3 | 2.5 |\n",
       "| 22 | 121342864 | 167.75 | 3 | 614 | RETIREES       | BUDGET | H | 0.65 |  6 | ⋯ | BUDGET + 1 | BUDGET + RETIREES       | H + 1 | H + 6 | H + other         | 6 + other         | RETIREES + H       | RETIREES + 1       | period prior + 3 | 3.0 |\n",
       "| 22 | 121357354 |  19.59 | 3 | 601 | YOUNG FAMILIES | BUDGET | L | 0.30 | 10 | ⋯ | BUDGET + 1 | BUDGET + YOUNG FAMILIES | L + 1 | L + 6 | L + other         | 6 + other         | YOUNG FAMILIES + L | YOUNG FAMILIES + 1 | period prior + 2 | 1.5 |\n",
       "| 22 | 121408985 | 228.20 | 3 | 597 | YOUNG FAMILIES | NORMAL | H | 0.78 |  2 | ⋯ | NORMAL + 1 | NORMAL + YOUNG FAMILIES | H + 1 | H + 3 | H + email_only    | 3 + email_only    | YOUNG FAMILIES + H | YOUNG FAMILIES + 1 | period prior + 3 | 3.0 |\n",
       "| 22 | 121410182 |  45.16 | 3 | 597 | OLDER NO KIDS  | NORMAL | H | 0.73 |  4 | ⋯ | NORMAL + 1 | NORMAL + OLDER NO KIDS  | H + 1 | H + 6 | H + other         | 6 + other         | OLDER NO KIDS + H  | OLDER NO KIDS + 1  | period prior + 1 | 2.0 |\n",
       "\n"
      ],
      "text/plain": [
       "  week_number crn       sales  week_period tenure lifestage      affluence\n",
       "1 22          121320442 432.94 3           617    OLDER FAMILIES NORMAL   \n",
       "2 22          121328096  79.47 3           616    YOUNG FAMILIES BUDGET   \n",
       "3 22          121342864 167.75 3           614    RETIREES       BUDGET   \n",
       "4 22          121357354  19.59 3           601    YOUNG FAMILIES BUDGET   \n",
       "5 22          121408985 228.20 3           597    YOUNG FAMILIES NORMAL   \n",
       "6 22          121410182  45.16 3           597    OLDER NO KIDS  NORMAL   \n",
       "  value_segment sow  sow_ntile_10 ⋯ affluence_tenure_ntile_10\n",
       "1 H             0.78  2           ⋯ NORMAL + 1               \n",
       "2 H             0.63  6           ⋯ BUDGET + 1               \n",
       "3 H             0.65  6           ⋯ BUDGET + 1               \n",
       "4 L             0.30 10           ⋯ BUDGET + 1               \n",
       "5 H             0.78  2           ⋯ NORMAL + 1               \n",
       "6 H             0.73  4           ⋯ NORMAL + 1               \n",
       "  affluence_lifestage     value_segment_tenure_ntile_10\n",
       "1 NORMAL + OLDER FAMILIES H + 1                        \n",
       "2 BUDGET + YOUNG FAMILIES H + 1                        \n",
       "3 BUDGET + RETIREES       H + 1                        \n",
       "4 BUDGET + YOUNG FAMILIES L + 1                        \n",
       "5 NORMAL + YOUNG FAMILIES H + 1                        \n",
       "6 NORMAL + OLDER NO KIDS  H + 1                        \n",
       "  value_segment_last_email_group value_segment_marketable_group\n",
       "1 H + 6                          H + other                     \n",
       "2 H + 4                          H + email_and_app             \n",
       "3 H + 6                          H + other                     \n",
       "4 L + 6                          L + other                     \n",
       "5 H + 3                          H + email_only                \n",
       "6 H + 6                          H + other                     \n",
       "  last_email_group_marketable_group lifestage_value_segment\n",
       "1 6 + other                         OLDER FAMILIES + H     \n",
       "2 4 + email_and_app                 YOUNG FAMILIES + H     \n",
       "3 6 + other                         RETIREES + H           \n",
       "4 6 + other                         YOUNG FAMILIES + L     \n",
       "5 3 + email_only                    YOUNG FAMILIES + H     \n",
       "6 6 + other                         OLDER NO KIDS + H      \n",
       "  lifestage_tenure_ntile_10 period_trans_cnt week_period_trans_avg\n",
       "1 OLDER FAMILIES + 1        period prior + 3 3.0                  \n",
       "2 YOUNG FAMILIES + 1        period prior + 3 2.5                  \n",
       "3 RETIREES + 1              period prior + 3 3.0                  \n",
       "4 YOUNG FAMILIES + 1        period prior + 2 1.5                  \n",
       "5 YOUNG FAMILIES + 1        period prior + 3 3.0                  \n",
       "6 OLDER NO KIDS + 1         period prior + 1 2.0                  "
      ]
     },
     "metadata": {},
     "output_type": "display_data"
    }
   ],
   "source": [
    "# select relevant time period\n",
    "sales_data <- data %>% filter(week_number >= 22)\n",
    "\n",
    "# Display the first few rows of the dataframe\n",
    "head(sales_data[order(sales_data$week_number), ])\n"
   ]
  },
  {
   "cell_type": "code",
   "execution_count": 8,
   "metadata": {
    "vscode": {
     "languageId": "r"
    }
   },
   "outputs": [
    {
     "data": {
      "text/html": [
       "<table class=\"dataframe\">\n",
       "<caption>A data.frame: 6 × 13</caption>\n",
       "<thead>\n",
       "\t<tr><th></th><th scope=col>segment_group</th><th scope=col>segment_name</th><th scope=col>p_value</th><th scope=col>effect_size</th><th scope=col>mean_before</th><th scope=col>mean_after</th><th scope=col>pooled_sd</th><th scope=col>df</th><th scope=col>cnts_before</th><th scope=col>cnts_after</th><th scope=col>distinct_crns</th><th scope=col>transactions_before</th><th scope=col>transactions_after</th></tr>\n",
       "\t<tr><th></th><th scope=col>&lt;chr&gt;</th><th scope=col>&lt;chr&gt;</th><th scope=col>&lt;dbl&gt;</th><th scope=col>&lt;dbl&gt;</th><th scope=col>&lt;dbl&gt;</th><th scope=col>&lt;dbl&gt;</th><th scope=col>&lt;dbl&gt;</th><th scope=col>&lt;dbl&gt;</th><th scope=col>&lt;int&gt;</th><th scope=col>&lt;int&gt;</th><th scope=col>&lt;int&gt;</th><th scope=col>&lt;dbl&gt;</th><th scope=col>&lt;dbl&gt;</th></tr>\n",
       "</thead>\n",
       "<tbody>\n",
       "\t<tr><th scope=row>1</th><td>affluence          </td><td>BUDGET                 </td><td>0.04686791</td><td>-0.06617177</td><td>123.00733</td><td>115.11290</td><td>119.30210</td><td>2566</td><td>1284</td><td>1284</td><td>428</td><td>1104</td><td>1070</td></tr>\n",
       "\t<tr><th scope=row>2</th><td>affluence          </td><td>NORMAL                 </td><td>0.16345852</td><td>-0.03445106</td><td>133.40643</td><td>127.65167</td><td>167.04157</td><td>3238</td><td>1620</td><td>1620</td><td>540</td><td>1338</td><td>1335</td></tr>\n",
       "\t<tr><th scope=row>3</th><td>affluence          </td><td>PREMIUM                </td><td>0.08291029</td><td>-0.05489996</td><td>120.77684</td><td>114.03522</td><td>122.79834</td><td>2548</td><td>1275</td><td>1275</td><td>425</td><td>1014</td><td> 955</td></tr>\n",
       "\t<tr><th scope=row>4</th><td>affluence          </td><td>UNKNOWN                </td><td>0.78626769</td><td> 0.15782805</td><td> 90.94392</td><td>108.36000</td><td>110.34843</td><td> 100</td><td>  51</td><td>  51</td><td> 17</td><td>  42</td><td>  42</td></tr>\n",
       "\t<tr><th scope=row>103</th><td>affluence_lifestage</td><td>BUDGET + MIDAGE NO KIDS</td><td>0.17985386</td><td>-0.15647476</td><td> 64.48855</td><td> 53.35072</td><td> 71.17970</td><td> 136</td><td>  69</td><td>  69</td><td> 23</td><td>  52</td><td>  47</td></tr>\n",
       "\t<tr><th scope=row>104</th><td>affluence_lifestage</td><td>BUDGET + NEW FAMILIES  </td><td>0.42135431</td><td>-0.03542962</td><td>100.35048</td><td> 96.95476</td><td> 95.84394</td><td> 124</td><td>  63</td><td>  63</td><td> 21</td><td>  50</td><td>  53</td></tr>\n",
       "</tbody>\n",
       "</table>\n"
      ],
      "text/latex": [
       "A data.frame: 6 × 13\n",
       "\\begin{tabular}{r|lllllllllllll}\n",
       "  & segment\\_group & segment\\_name & p\\_value & effect\\_size & mean\\_before & mean\\_after & pooled\\_sd & df & cnts\\_before & cnts\\_after & distinct\\_crns & transactions\\_before & transactions\\_after\\\\\n",
       "  & <chr> & <chr> & <dbl> & <dbl> & <dbl> & <dbl> & <dbl> & <dbl> & <int> & <int> & <int> & <dbl> & <dbl>\\\\\n",
       "\\hline\n",
       "\t1 & affluence           & BUDGET                  & 0.04686791 & -0.06617177 & 123.00733 & 115.11290 & 119.30210 & 2566 & 1284 & 1284 & 428 & 1104 & 1070\\\\\n",
       "\t2 & affluence           & NORMAL                  & 0.16345852 & -0.03445106 & 133.40643 & 127.65167 & 167.04157 & 3238 & 1620 & 1620 & 540 & 1338 & 1335\\\\\n",
       "\t3 & affluence           & PREMIUM                 & 0.08291029 & -0.05489996 & 120.77684 & 114.03522 & 122.79834 & 2548 & 1275 & 1275 & 425 & 1014 &  955\\\\\n",
       "\t4 & affluence           & UNKNOWN                 & 0.78626769 &  0.15782805 &  90.94392 & 108.36000 & 110.34843 &  100 &   51 &   51 &  17 &   42 &   42\\\\\n",
       "\t103 & affluence\\_lifestage & BUDGET + MIDAGE NO KIDS & 0.17985386 & -0.15647476 &  64.48855 &  53.35072 &  71.17970 &  136 &   69 &   69 &  23 &   52 &   47\\\\\n",
       "\t104 & affluence\\_lifestage & BUDGET + NEW FAMILIES   & 0.42135431 & -0.03542962 & 100.35048 &  96.95476 &  95.84394 &  124 &   63 &   63 &  21 &   50 &   53\\\\\n",
       "\\end{tabular}\n"
      ],
      "text/markdown": [
       "\n",
       "A data.frame: 6 × 13\n",
       "\n",
       "| <!--/--> | segment_group &lt;chr&gt; | segment_name &lt;chr&gt; | p_value &lt;dbl&gt; | effect_size &lt;dbl&gt; | mean_before &lt;dbl&gt; | mean_after &lt;dbl&gt; | pooled_sd &lt;dbl&gt; | df &lt;dbl&gt; | cnts_before &lt;int&gt; | cnts_after &lt;int&gt; | distinct_crns &lt;int&gt; | transactions_before &lt;dbl&gt; | transactions_after &lt;dbl&gt; |\n",
       "|---|---|---|---|---|---|---|---|---|---|---|---|---|---|\n",
       "| 1 | affluence           | BUDGET                  | 0.04686791 | -0.06617177 | 123.00733 | 115.11290 | 119.30210 | 2566 | 1284 | 1284 | 428 | 1104 | 1070 |\n",
       "| 2 | affluence           | NORMAL                  | 0.16345852 | -0.03445106 | 133.40643 | 127.65167 | 167.04157 | 3238 | 1620 | 1620 | 540 | 1338 | 1335 |\n",
       "| 3 | affluence           | PREMIUM                 | 0.08291029 | -0.05489996 | 120.77684 | 114.03522 | 122.79834 | 2548 | 1275 | 1275 | 425 | 1014 |  955 |\n",
       "| 4 | affluence           | UNKNOWN                 | 0.78626769 |  0.15782805 |  90.94392 | 108.36000 | 110.34843 |  100 |   51 |   51 |  17 |   42 |   42 |\n",
       "| 103 | affluence_lifestage | BUDGET + MIDAGE NO KIDS | 0.17985386 | -0.15647476 |  64.48855 |  53.35072 |  71.17970 |  136 |   69 |   69 |  23 |   52 |   47 |\n",
       "| 104 | affluence_lifestage | BUDGET + NEW FAMILIES   | 0.42135431 | -0.03542962 | 100.35048 |  96.95476 |  95.84394 |  124 |   63 |   63 |  21 |   50 |   53 |\n",
       "\n"
      ],
      "text/plain": [
       "    segment_group       segment_name            p_value    effect_size\n",
       "1   affluence           BUDGET                  0.04686791 -0.06617177\n",
       "2   affluence           NORMAL                  0.16345852 -0.03445106\n",
       "3   affluence           PREMIUM                 0.08291029 -0.05489996\n",
       "4   affluence           UNKNOWN                 0.78626769  0.15782805\n",
       "103 affluence_lifestage BUDGET + MIDAGE NO KIDS 0.17985386 -0.15647476\n",
       "104 affluence_lifestage BUDGET + NEW FAMILIES   0.42135431 -0.03542962\n",
       "    mean_before mean_after pooled_sd df   cnts_before cnts_after distinct_crns\n",
       "1   123.00733   115.11290  119.30210 2566 1284        1284       428          \n",
       "2   133.40643   127.65167  167.04157 3238 1620        1620       540          \n",
       "3   120.77684   114.03522  122.79834 2548 1275        1275       425          \n",
       "4    90.94392   108.36000  110.34843  100   51          51        17          \n",
       "103  64.48855    53.35072   71.17970  136   69          69        23          \n",
       "104 100.35048    96.95476   95.84394  124   63          63        21          \n",
       "    transactions_before transactions_after\n",
       "1   1104                1070              \n",
       "2   1338                1335              \n",
       "3   1014                 955              \n",
       "4     42                  42              \n",
       "103   52                  47              \n",
       "104   50                  53              "
      ]
     },
     "metadata": {},
     "output_type": "display_data"
    }
   ],
   "source": [
    "# select segments to test\n",
    "segment_group_names <- c(\"affluence\", \"value_segment\", \"sow_ntile_10\", \"sow_1dp\", \"sow_25\", \"monthly_trans\"\n",
    ",\t\"affluence_sow_25\"\t,\"affluence_value_segment\"\t,\"affluence_tenure_ntile_10\"\t,\"affluence_lifestage\",\t\"value_segment_tenure_ntile_10\"\t\n",
    ",\"lifestage_value_segment\",\t\"lifestage_tenure_ntile_10\", \"tenure_ntile_10\", \"week_period_trans_avg\", \"value_segment_last_email_group\"\n",
    ", \"value_segment_marketable_group\", \"last_email_group_marketable_group\", \"marketable_group\", \"last_email_group\")\n",
    "\n",
    "# Initialize results dataframe\n",
    "results <- data.frame(segment_group = character(),\n",
    "                      segment_name = character(),\n",
    "                      p_value = numeric(),\n",
    "                      effect_size = numeric(),\n",
    "                      mean_before = numeric(),\n",
    "                      mean_after = numeric(),\n",
    "                      pooled_sd = numeric(),\n",
    "                      df = numeric(),\n",
    "                      cnts_before = numeric(),\n",
    "                      cnts_after = numeric(),\n",
    "                      distinct_crns = character(),\n",
    "                      transactions_before = numeric(),\n",
    "                      transactions_after = numeric(),\n",
    "                      #pooled_sd = numeric(),\n",
    "                      stringsAsFactors = FALSE)\n",
    "                      \n",
    "\n",
    "\n",
    "\n",
    "# Set the cutoff date\n",
    "cutoff_date <- as.numeric(25)\n",
    "\n",
    "for(var_x in segment_group_names) {\n",
    "  \n",
    "# 'var_x' is a column name in sales_data representing a different segment group\n",
    "  sales_data[[var_x]] <- as.factor(sales_data[[var_x]])\n",
    "  \n",
    "  # Split the data into before and after the cutoff date based on each segment\n",
    "  before_data <- filter(sales_data, week_number < cutoff_date)\n",
    "  after_data <- filter(sales_data, week_number >= cutoff_date)\n",
    "\n",
    "  for(segment in levels(sales_data[[var_x]])) {\n",
    "    before_sales <- before_data %>% filter(.data[[var_x]] == segment) %>% pull(sales)\n",
    "    after_sales <- after_data %>% filter(.data[[var_x]] == segment) %>% pull(sales)\n",
    "    \n",
    "    # Only proceed if both before and after sales have more than one data point\n",
    "    if(length(before_sales) > 1 & length(after_sales) > 1) {\n",
    "      t_test_result <- t.test(before_sales, after_sales,\n",
    "                              alternative = \"greater\",\n",
    "                              conf.level = 0.95)\n",
    "      \n",
    "      # Calculate effect size (Cohen's d)\n",
    "      n1 <- length(before_sales)\n",
    "      n2 <- length(after_sales)\n",
    "      df = (n1 + n2 - 2)\n",
    "      pooled_sd <- sqrt(((n1 - 1) * var(before_sales) + (n2 - 1) * var(after_sales)) / df )\n",
    "      d <- (mean(after_sales) - mean(before_sales)) / pooled_sd\n",
    "      \n",
    "      #calculate other metrics \n",
    "      trans_before <- sum(before_data %>% filter(.data[[var_x]] == segment) %>% pull(transaction_cnt))\n",
    "      trans_after <- sum(after_data %>% filter(.data[[var_x]] == segment) %>% pull(transaction_cnt))\n",
    "      seg_crns <- sales_data %>% filter(.data[[var_x]] == segment) %>% pull(crn)\n",
    "      distinct_crns <- n_distinct(seg_crns)\n",
    "\n",
    "      # Append results\n",
    "      results <- rbind(results, data.frame(segment_group = var_x,\n",
    "                                           segment_name = segment,\n",
    "                                           p_value = t_test_result$p.value,\n",
    "                                           effect_size = d,\n",
    "                                           mean_before = mean(before_sales),\n",
    "                                           mean_after = mean(after_sales),\n",
    "                                           pooled_sd = pooled_sd,\n",
    "                                           df = df,\n",
    "                                           cnts_before = n1,\n",
    "                                           cnts_after = n2,\n",
    "                                           distinct_crns = distinct_crns,\n",
    "                                           transactions_before = trans_before,\n",
    "                                           transactions_after = trans_after\n",
    "                                           )\n",
    "                                           )\n",
    "    }\n",
    "  }\n",
    "  \n",
    "  sales_data[[var_x]] <- as.character(sales_data[[var_x]])\n",
    "}\n",
    "\n",
    "# Ordering by column1 (ascending) and column2 (descending  -df$column2 )\n",
    "results <- results[order(results$segment_group, results$segment_name), ]\n",
    "\n",
    "head(results)\n"
   ]
  },
  {
   "cell_type": "code",
   "execution_count": 12,
   "metadata": {
    "vscode": {
     "languageId": "r"
    }
   },
   "outputs": [],
   "source": [
    "setwd(\"C:\\\\Users\\\\61468\\\\OneDrive\\\\Documents\\\\WooliesX\")"
   ]
  },
  {
   "cell_type": "code",
   "execution_count": 13,
   "metadata": {
    "vscode": {
     "languageId": "r"
    }
   },
   "outputs": [],
   "source": [
    "write.csv(results, \"t_test_results.csv\", row.names = TRUE)"
   ]
  }
 ],
 "metadata": {
  "kernelspec": {
   "display_name": "R",
   "language": "R",
   "name": "ir"
  },
  "language_info": {
   "codemirror_mode": "r",
   "file_extension": ".r",
   "mimetype": "text/x-r-source",
   "name": "R",
   "pygments_lexer": "r",
   "version": "4.2.3"
  }
 },
 "nbformat": 4,
 "nbformat_minor": 2
}
